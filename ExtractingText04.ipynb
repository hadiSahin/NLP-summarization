{
 "cells": [
  {
   "cell_type": "code",
   "execution_count": 38,
   "metadata": {},
   "outputs": [],
   "source": [
    "import PyPDF2\n",
    "import re\n",
    "import pandas as pd\n",
    "import os"
   ]
  },
  {
   "cell_type": "code",
   "execution_count": 39,
   "metadata": {},
   "outputs": [],
   "source": [
    "directory = \"data/Miami\""
   ]
  },
  {
   "cell_type": "code",
   "execution_count": 40,
   "metadata": {},
   "outputs": [],
   "source": [
    "# pdf_path = \"C:/Users/Administrator/OneDrive - Florida International University/Documents/ECE Spring'23/NLP/proposal/Public_Meetings/Miami/2767.pdf\"\n",
    "# pdf_path = \"C:/Users/Administrator/OneDrive - Florida International University/Documents/ECE Spring'23/NLP/proposal/Public_Meetings/Miami/2789.pdf\"\n",
    "\n",
    "def extract_text_from_pdf(pdf_path):\n",
    "    with open(pdf_path, 'rb') as f:\n",
    "        pdf_reader = PyPDF2.PdfFileReader(f)\n",
    "        text = ''\n",
    "        for page_num in range(pdf_reader.numPages):\n",
    "            page = pdf_reader.getPage(page_num)\n",
    "            page_text = page.extractText()\n",
    "            text += page_text\n",
    "        lines = [line.strip() for line in text.split('\\n') if line.strip()]\n",
    "        new_text = '\\n'.join(lines)\n",
    "        return new_text"
   ]
  },
  {
   "cell_type": "code",
   "execution_count": 41,
   "metadata": {},
   "outputs": [],
   "source": [
    "def extract_resolutions(text):\n",
    "    resolutions = []\n",
    "    categories = []\n",
    "    res_number= []\n",
    "    in_resolution = False\n",
    "    for line in text.split('\\n'):\n",
    "        line = line.strip()\n",
    "        if re.match(r'[A-Z]{2}\\s*-\\s*[A-Z\\s]+', line):\n",
    "            cat = line\n",
    "        if re.match(r'^[A-Z]{2}\\.[0-9]{1,3}$', line):\n",
    "            res = line\n",
    "            # print(res)\n",
    "        if re.match(r'^(AN ORDINANCE OF|A RESOLUTION OF|A DISCUSSION ITEM REGARDING|A DISCUSSION REGARDING)', line):\n",
    "        # if line.startswith(\"AN ORDINANCE OF\") or line.startswith(\"A RESOLUTION OF\") or line.startswith(\"A DISCUSSION ITEM\") or line.startswith(\"A DISCUSSION REGARDING\"):\n",
    "            in_resolution = True\n",
    "            res_number.append(res)\n",
    "            categories.append(cat)\n",
    "            resolutions.append(line)\n",
    "        # elif line == 'END OF RESOLUTIONS':\n",
    "        #     break\n",
    "        elif in_resolution:\n",
    "            resolutions[-1] += ' ' + line.strip()\n",
    "    return resolutions, categories, res_number"
   ]
  },
  {
   "cell_type": "code",
   "execution_count": 42,
   "metadata": {},
   "outputs": [],
   "source": [
    "os.chdir(directory)"
   ]
  },
  {
   "cell_type": "code",
   "execution_count": 43,
   "metadata": {},
   "outputs": [
    {
     "name": "stdout",
     "output_type": "stream",
     "text": [
      "['2022-01-13 City Commission - Public Agenda-2767.pdf', '2022-01-27 City Commission - Public Agenda-2789.pdf', '2022-02-10 City Commission - Public Agenda-2758.pdf', '2022-02-24 City Commission - Public Agenda-2771.pdf', '2022-03-10 City Commission - Public Agenda-2759.pdf', '2022-03-24 City Commission - Public Agenda-2729.pdf', '2022-04-14 City Commission - Public Agenda-2775.pdf', '2022-04-28 City Commission - Public Agenda-2776.pdf', '2022-05-12 City Commission - Public Agenda-2746.pdf', '2022-06-09 City Commission - Public Agenda-2778.pdf', '2022-06-23 City Commission - Public Agenda-2815.pdf', '2022-07-28 City Commission - Public Agenda-2782.pdf', '2022-09-08 City Commission - Public Agenda-2783.pdf', '2022-09-13 City Commission - Public Agenda-2934.pdf', '2022-09-22 City Commission - Public Agenda-2784.pdf', '2022-10-13 City Commission - Public Agenda-2944.pdf', '2022-10-27 City Commission - Public Agenda-2786.pdf', '2022-11-17 City Commission - Public Agenda-2956.pdf']\n"
     ]
    }
   ],
   "source": [
    "pdf_files = [f for f in os.listdir() if f.endswith('.pdf')]\n",
    "print(pdf_files)"
   ]
  },
  {
   "cell_type": "code",
   "execution_count": 44,
   "metadata": {},
   "outputs": [],
   "source": [
    "# Loop through each PDF file and open it\n",
    "df = pd.DataFrame()\n",
    "for pdf_file in pdf_files:\n",
    "    pdf_text = extract_text_from_pdf(pdf_file)\n",
    "    resolutions, categories, res_number = extract_resolutions(pdf_text)\n",
    "    df_new = pd.DataFrame({'filename': pdf_file, 'categories': categories, 'res#': res_number, 'resolutions': resolutions})\n",
    "    df = pd.concat([df, df_new])"
   ]
  },
  {
   "cell_type": "code",
   "execution_count": 45,
   "metadata": {},
   "outputs": [
    {
     "name": "stdout",
     "output_type": "stream",
     "text": [
      "(957, 4)\n"
     ]
    }
   ],
   "source": [
    "print(df.shape)"
   ]
  },
  {
   "cell_type": "code",
   "execution_count": 46,
   "metadata": {},
   "outputs": [],
   "source": [
    "directory2 = \"C:/Users/Administrator/OneDrive - Florida International University/Documents/ECE Spring'23/NLP/proposal/\"\n",
    "os.chdir(directory2)"
   ]
  },
  {
   "cell_type": "code",
   "execution_count": 47,
   "metadata": {},
   "outputs": [
    {
     "name": "stdout",
     "output_type": "stream",
     "text": [
      "C:/Users/Administrator/OneDrive - Florida International University/Documents/ECE Spring'23/NLP/proposal/\n"
     ]
    }
   ],
   "source": [
    "print(directory2)"
   ]
  },
  {
   "cell_type": "code",
   "execution_count": 48,
   "metadata": {},
   "outputs": [],
   "source": [
    "df.to_csv(\"code/data/resolutions.csv\", index=False)"
   ]
  },
  {
   "cell_type": "code",
   "execution_count": 49,
   "metadata": {},
   "outputs": [
    {
     "data": {
      "text/html": [
       "<div>\n",
       "<style scoped>\n",
       "    .dataframe tbody tr th:only-of-type {\n",
       "        vertical-align: middle;\n",
       "    }\n",
       "\n",
       "    .dataframe tbody tr th {\n",
       "        vertical-align: top;\n",
       "    }\n",
       "\n",
       "    .dataframe thead th {\n",
       "        text-align: right;\n",
       "    }\n",
       "</style>\n",
       "<table border=\"1\" class=\"dataframe\">\n",
       "  <thead>\n",
       "    <tr style=\"text-align: right;\">\n",
       "      <th></th>\n",
       "      <th>filename</th>\n",
       "      <th>categories</th>\n",
       "      <th>res#</th>\n",
       "      <th>resolutions</th>\n",
       "    </tr>\n",
       "  </thead>\n",
       "  <tbody>\n",
       "    <tr>\n",
       "      <th>0</th>\n",
       "      <td>2022-01-13 City Commission - Public Agenda-276...</td>\n",
       "      <td>CA - CONSENT AGENDA</td>\n",
       "      <td>CA.1</td>\n",
       "      <td>A RESOLUTION OF THE MIAMI CITY COMMISSION ACCE...</td>\n",
       "    </tr>\n",
       "    <tr>\n",
       "      <th>1</th>\n",
       "      <td>2022-01-13 City Commission - Public Agenda-276...</td>\n",
       "      <td>CA - CONSENT AGENDA</td>\n",
       "      <td>CA.1</td>\n",
       "      <td>A RESOLUTION OF THE MIAMI CITY COMMISSION FIND...</td>\n",
       "    </tr>\n",
       "    <tr>\n",
       "      <th>2</th>\n",
       "      <td>2022-01-13 City Commission - Public Agenda-276...</td>\n",
       "      <td>CA - CONSENT AGENDA</td>\n",
       "      <td>CA.3</td>\n",
       "      <td>A RESOLUTION OF THE MIAMI CITY COMMISSION AUTH...</td>\n",
       "    </tr>\n",
       "    <tr>\n",
       "      <th>3</th>\n",
       "      <td>2022-01-13 City Commission - Public Agenda-276...</td>\n",
       "      <td>CA - CONSENT AGENDA</td>\n",
       "      <td>CA.3</td>\n",
       "      <td>A RESOLUTION OF THE MIAMI CITY COMMISSION, WIT...</td>\n",
       "    </tr>\n",
       "    <tr>\n",
       "      <th>4</th>\n",
       "      <td>2022-01-13 City Commission - Public Agenda-276...</td>\n",
       "      <td>CA - CONSENT AGENDA</td>\n",
       "      <td>CA.5</td>\n",
       "      <td>A RESOLUTION OF THE MIAMI CITY COMMISSION, WIT...</td>\n",
       "    </tr>\n",
       "    <tr>\n",
       "      <th>...</th>\n",
       "      <td>...</td>\n",
       "      <td>...</td>\n",
       "      <td>...</td>\n",
       "      <td>...</td>\n",
       "    </tr>\n",
       "    <tr>\n",
       "      <th>82</th>\n",
       "      <td>2022-11-17 City Commission - Public Agenda-295...</td>\n",
       "      <td>PZ - PLANNING AND ZONING ITEM(S)</td>\n",
       "      <td>PZ.14</td>\n",
       "      <td>AN ORDINANCE OF THE MIAMI CITY CO MMISSION, WI...</td>\n",
       "    </tr>\n",
       "    <tr>\n",
       "      <th>83</th>\n",
       "      <td>2022-11-17 City Commission - Public Agenda-295...</td>\n",
       "      <td>PZ - PLANNING AND ZONING ITEM(S)</td>\n",
       "      <td>PZ.15</td>\n",
       "      <td>AN ORDINANCE OF THE MIAMI CITY COMMISSION, WIT...</td>\n",
       "    </tr>\n",
       "    <tr>\n",
       "      <th>84</th>\n",
       "      <td>2022-11-17 City Commission - Public Agenda-295...</td>\n",
       "      <td>PZ - PLANNING AND ZONING ITEM(S)</td>\n",
       "      <td>PZ.16</td>\n",
       "      <td>AN ORDINANCE OF THE MIAMI CITY COMMISSION, WIT...</td>\n",
       "    </tr>\n",
       "    <tr>\n",
       "      <th>85</th>\n",
       "      <td>2022-11-17 City Commission - Public Agenda-295...</td>\n",
       "      <td>PZ - PLANNING AND ZONING ITEM(S)</td>\n",
       "      <td>PZ.17</td>\n",
       "      <td>AN ORDINANCE OF THE MIAMI CITY COMMISSION, WIT...</td>\n",
       "    </tr>\n",
       "    <tr>\n",
       "      <th>86</th>\n",
       "      <td>2022-11-17 City Commission - Public Agenda-295...</td>\n",
       "      <td>PZ - PLANNING AND ZONING ITEM(S)</td>\n",
       "      <td>PZ.18</td>\n",
       "      <td>AN ORDINANCE OF THE MIAMI CITY COMMISSION AMEN...</td>\n",
       "    </tr>\n",
       "  </tbody>\n",
       "</table>\n",
       "<p>957 rows × 4 columns</p>\n",
       "</div>"
      ],
      "text/plain": [
       "                                             filename  \\\n",
       "0   2022-01-13 City Commission - Public Agenda-276...   \n",
       "1   2022-01-13 City Commission - Public Agenda-276...   \n",
       "2   2022-01-13 City Commission - Public Agenda-276...   \n",
       "3   2022-01-13 City Commission - Public Agenda-276...   \n",
       "4   2022-01-13 City Commission - Public Agenda-276...   \n",
       "..                                                ...   \n",
       "82  2022-11-17 City Commission - Public Agenda-295...   \n",
       "83  2022-11-17 City Commission - Public Agenda-295...   \n",
       "84  2022-11-17 City Commission - Public Agenda-295...   \n",
       "85  2022-11-17 City Commission - Public Agenda-295...   \n",
       "86  2022-11-17 City Commission - Public Agenda-295...   \n",
       "\n",
       "                          categories   res#  \\\n",
       "0                CA - CONSENT AGENDA   CA.1   \n",
       "1                CA - CONSENT AGENDA   CA.1   \n",
       "2                CA - CONSENT AGENDA   CA.3   \n",
       "3                CA - CONSENT AGENDA   CA.3   \n",
       "4                CA - CONSENT AGENDA   CA.5   \n",
       "..                               ...    ...   \n",
       "82  PZ - PLANNING AND ZONING ITEM(S)  PZ.14   \n",
       "83  PZ - PLANNING AND ZONING ITEM(S)  PZ.15   \n",
       "84  PZ - PLANNING AND ZONING ITEM(S)  PZ.16   \n",
       "85  PZ - PLANNING AND ZONING ITEM(S)  PZ.17   \n",
       "86  PZ - PLANNING AND ZONING ITEM(S)  PZ.18   \n",
       "\n",
       "                                          resolutions  \n",
       "0   A RESOLUTION OF THE MIAMI CITY COMMISSION ACCE...  \n",
       "1   A RESOLUTION OF THE MIAMI CITY COMMISSION FIND...  \n",
       "2   A RESOLUTION OF THE MIAMI CITY COMMISSION AUTH...  \n",
       "3   A RESOLUTION OF THE MIAMI CITY COMMISSION, WIT...  \n",
       "4   A RESOLUTION OF THE MIAMI CITY COMMISSION, WIT...  \n",
       "..                                                ...  \n",
       "82  AN ORDINANCE OF THE MIAMI CITY CO MMISSION, WI...  \n",
       "83  AN ORDINANCE OF THE MIAMI CITY COMMISSION, WIT...  \n",
       "84  AN ORDINANCE OF THE MIAMI CITY COMMISSION, WIT...  \n",
       "85  AN ORDINANCE OF THE MIAMI CITY COMMISSION, WIT...  \n",
       "86  AN ORDINANCE OF THE MIAMI CITY COMMISSION AMEN...  \n",
       "\n",
       "[957 rows x 4 columns]"
      ]
     },
     "execution_count": 49,
     "metadata": {},
     "output_type": "execute_result"
    }
   ],
   "source": [
    "df"
   ]
  }
 ],
 "metadata": {
  "kernelspec": {
   "display_name": "Python 3",
   "language": "python",
   "name": "python3"
  },
  "language_info": {
   "codemirror_mode": {
    "name": "ipython",
    "version": 3
   },
   "file_extension": ".py",
   "mimetype": "text/x-python",
   "name": "python",
   "nbconvert_exporter": "python",
   "pygments_lexer": "ipython3",
   "version": "3.10.5"
  },
  "orig_nbformat": 4
 },
 "nbformat": 4,
 "nbformat_minor": 2
}
